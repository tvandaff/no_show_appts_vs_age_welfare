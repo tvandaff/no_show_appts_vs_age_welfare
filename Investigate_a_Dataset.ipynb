{
 "cells": [
  {
   "cell_type": "markdown",
   "metadata": {},
   "source": [
    "\n",
    "\n",
    "# Project: No_show appointments and the correlation with age and welfare status\n",
    "\n",
    "## Table of Contents\n",
    "<ul>\n",
    "<li><a href=\"#intro\">Introduction</a></li>\n",
    "<li><a href=\"#wrangling\">Data Wrangling</a></li>\n",
    "<li><a href=\"#eda\">Exploratory Data Analysis</a></li>\n",
    "<li><a href=\"#conclusions\">Conclusions</a></li>\n",
    "</ul>"
   ]
  },
  {
   "cell_type": "markdown",
   "metadata": {},
   "source": [
    "<a id='intro'></a>\n",
    "## Introduction\n",
    "\n",
    "> I investigate no_show_appointments in this data set in the country Brazil. I decided to analyze the correlation between the missed appointments and the patient's age or welfare status. This is to determine whether elderly people(who are more likely to need healthcare assistance) attend appointments more reliably than younger individuals. This is also to determine whether people on welfare are less likely to attend appointments as a result of work schedules and unreliable transportation."
   ]
  },
  {
   "cell_type": "code",
   "execution_count": 139,
   "metadata": {},
   "outputs": [],
   "source": [
    "# Use this cell to set up import statements for all of the packages that you\n",
    "#   plan to use.\n",
    "\n",
    "import pandas as pd\n",
    "import numpy as np \n",
    "import matplotlib.pyplot as plt\n",
    "import seaborn as sns\n",
    "% matplotlib inline\n",
    "\n",
    "# Remember to include a 'magic word' so that your visualizations are plotted\n",
    "#   inline with the notebook. See this page for more:\n",
    "#   http://ipython.readthedocs.io/en/stable/interactive/magics.html\n"
   ]
  },
  {
   "cell_type": "markdown",
   "metadata": {},
   "source": [
    "<a id='wrangling'></a>\n",
    "## Data Wrangling\n",
    "\n",
    "\n",
    "### General Properties"
   ]
  },
  {
   "cell_type": "code",
   "execution_count": 140,
   "metadata": {},
   "outputs": [
    {
     "data": {
      "text/html": [
       "<div>\n",
       "<style scoped>\n",
       "    .dataframe tbody tr th:only-of-type {\n",
       "        vertical-align: middle;\n",
       "    }\n",
       "\n",
       "    .dataframe tbody tr th {\n",
       "        vertical-align: top;\n",
       "    }\n",
       "\n",
       "    .dataframe thead th {\n",
       "        text-align: right;\n",
       "    }\n",
       "</style>\n",
       "<table border=\"1\" class=\"dataframe\">\n",
       "  <thead>\n",
       "    <tr style=\"text-align: right;\">\n",
       "      <th></th>\n",
       "      <th>PatientId</th>\n",
       "      <th>AppointmentID</th>\n",
       "      <th>Gender</th>\n",
       "      <th>ScheduledDay</th>\n",
       "      <th>AppointmentDay</th>\n",
       "      <th>Age</th>\n",
       "      <th>Neighbourhood</th>\n",
       "      <th>Scholarship</th>\n",
       "      <th>Hipertension</th>\n",
       "      <th>Diabetes</th>\n",
       "      <th>Alcoholism</th>\n",
       "      <th>Handcap</th>\n",
       "      <th>SMS_received</th>\n",
       "      <th>No-show</th>\n",
       "    </tr>\n",
       "  </thead>\n",
       "  <tbody>\n",
       "    <tr>\n",
       "      <th>0</th>\n",
       "      <td>29,872,500,000,000.00</td>\n",
       "      <td>5642903</td>\n",
       "      <td>F</td>\n",
       "      <td>2016-04-29T18:38:08Z</td>\n",
       "      <td>2016-04-29T00:00:00Z</td>\n",
       "      <td>62</td>\n",
       "      <td>JARDIM DA PENHA</td>\n",
       "      <td>0</td>\n",
       "      <td>1</td>\n",
       "      <td>0</td>\n",
       "      <td>0</td>\n",
       "      <td>0</td>\n",
       "      <td>0</td>\n",
       "      <td>No</td>\n",
       "    </tr>\n",
       "    <tr>\n",
       "      <th>1</th>\n",
       "      <td>558,998,000,000,000.00</td>\n",
       "      <td>5642503</td>\n",
       "      <td>M</td>\n",
       "      <td>2016-04-29T16:08:27Z</td>\n",
       "      <td>2016-04-29T00:00:00Z</td>\n",
       "      <td>56</td>\n",
       "      <td>JARDIM DA PENHA</td>\n",
       "      <td>0</td>\n",
       "      <td>0</td>\n",
       "      <td>0</td>\n",
       "      <td>0</td>\n",
       "      <td>0</td>\n",
       "      <td>0</td>\n",
       "      <td>No</td>\n",
       "    </tr>\n",
       "    <tr>\n",
       "      <th>2</th>\n",
       "      <td>4,262,960,000,000.00</td>\n",
       "      <td>5642549</td>\n",
       "      <td>F</td>\n",
       "      <td>2016-04-29T16:19:04Z</td>\n",
       "      <td>2016-04-29T00:00:00Z</td>\n",
       "      <td>62</td>\n",
       "      <td>MATA DA PRAIA</td>\n",
       "      <td>0</td>\n",
       "      <td>0</td>\n",
       "      <td>0</td>\n",
       "      <td>0</td>\n",
       "      <td>0</td>\n",
       "      <td>0</td>\n",
       "      <td>No</td>\n",
       "    </tr>\n",
       "    <tr>\n",
       "      <th>3</th>\n",
       "      <td>867,951,000,000.00</td>\n",
       "      <td>5642828</td>\n",
       "      <td>F</td>\n",
       "      <td>2016-04-29T17:29:31Z</td>\n",
       "      <td>2016-04-29T00:00:00Z</td>\n",
       "      <td>8</td>\n",
       "      <td>PONTAL DE CAMBURI</td>\n",
       "      <td>0</td>\n",
       "      <td>0</td>\n",
       "      <td>0</td>\n",
       "      <td>0</td>\n",
       "      <td>0</td>\n",
       "      <td>0</td>\n",
       "      <td>No</td>\n",
       "    </tr>\n",
       "    <tr>\n",
       "      <th>4</th>\n",
       "      <td>8,841,190,000,000.00</td>\n",
       "      <td>5642494</td>\n",
       "      <td>F</td>\n",
       "      <td>2016-04-29T16:07:23Z</td>\n",
       "      <td>2016-04-29T00:00:00Z</td>\n",
       "      <td>56</td>\n",
       "      <td>JARDIM DA PENHA</td>\n",
       "      <td>0</td>\n",
       "      <td>1</td>\n",
       "      <td>1</td>\n",
       "      <td>0</td>\n",
       "      <td>0</td>\n",
       "      <td>0</td>\n",
       "      <td>No</td>\n",
       "    </tr>\n",
       "  </tbody>\n",
       "</table>\n",
       "</div>"
      ],
      "text/plain": [
       "               PatientId  AppointmentID Gender          ScheduledDay  \\\n",
       "0  29,872,500,000,000.00        5642903      F  2016-04-29T18:38:08Z   \n",
       "1 558,998,000,000,000.00        5642503      M  2016-04-29T16:08:27Z   \n",
       "2   4,262,960,000,000.00        5642549      F  2016-04-29T16:19:04Z   \n",
       "3     867,951,000,000.00        5642828      F  2016-04-29T17:29:31Z   \n",
       "4   8,841,190,000,000.00        5642494      F  2016-04-29T16:07:23Z   \n",
       "\n",
       "         AppointmentDay  Age      Neighbourhood  Scholarship  Hipertension  \\\n",
       "0  2016-04-29T00:00:00Z   62    JARDIM DA PENHA            0             1   \n",
       "1  2016-04-29T00:00:00Z   56    JARDIM DA PENHA            0             0   \n",
       "2  2016-04-29T00:00:00Z   62      MATA DA PRAIA            0             0   \n",
       "3  2016-04-29T00:00:00Z    8  PONTAL DE CAMBURI            0             0   \n",
       "4  2016-04-29T00:00:00Z   56    JARDIM DA PENHA            0             1   \n",
       "\n",
       "   Diabetes  Alcoholism  Handcap  SMS_received No-show  \n",
       "0         0           0        0             0      No  \n",
       "1         0           0        0             0      No  \n",
       "2         0           0        0             0      No  \n",
       "3         0           0        0             0      No  \n",
       "4         1           0        0             0      No  "
      ]
     },
     "execution_count": 140,
     "metadata": {},
     "output_type": "execute_result"
    }
   ],
   "source": [
    "# Load your data and print out a few lines. Perform operations to inspect data\n",
    "#   types and look for instances of missing or possibly errant data.\n",
    "\n",
    "df = pd.read_csv('noshows.csv')\n",
    "df.head()"
   ]
  },
  {
   "cell_type": "code",
   "execution_count": 141,
   "metadata": {},
   "outputs": [],
   "source": [
    "df.isnull().sum()\n",
    "pd.options.display.float_format = '{:9,.2f}'.format"
   ]
  },
  {
   "cell_type": "markdown",
   "metadata": {},
   "source": [
    "> There are no null values in this data set, so we do not have to drop any rows. "
   ]
  },
  {
   "cell_type": "code",
   "execution_count": 142,
   "metadata": {},
   "outputs": [
    {
     "name": "stdout",
     "output_type": "stream",
     "text": [
      "<class 'pandas.core.frame.DataFrame'>\n",
      "RangeIndex: 110527 entries, 0 to 110526\n",
      "Data columns (total 14 columns):\n",
      "PatientId         110527 non-null float64\n",
      "AppointmentID     110527 non-null int64\n",
      "Gender            110527 non-null object\n",
      "ScheduledDay      110527 non-null object\n",
      "AppointmentDay    110527 non-null object\n",
      "Age               110527 non-null int64\n",
      "Neighbourhood     110527 non-null object\n",
      "Scholarship       110527 non-null int64\n",
      "Hipertension      110527 non-null int64\n",
      "Diabetes          110527 non-null int64\n",
      "Alcoholism        110527 non-null int64\n",
      "Handcap           110527 non-null int64\n",
      "SMS_received      110527 non-null int64\n",
      "No-show           110527 non-null object\n",
      "dtypes: float64(1), int64(8), object(5)\n",
      "memory usage: 11.8+ MB\n"
     ]
    }
   ],
   "source": [
    "df.info()"
   ]
  },
  {
   "cell_type": "markdown",
   "metadata": {},
   "source": [
    "### Data Cleaning\n",
    "\n",
    ">To clean the data I made all columns lowercase and renamed them to more readable/logical names, adding underscores where there was once spaces. Then in the location column, I made the responses lowercase and replaced spaces with underscores for consistency. I made the no_show responses lowercase as well and checked the results. "
   ]
  },
  {
   "cell_type": "code",
   "execution_count": 143,
   "metadata": {},
   "outputs": [
    {
     "data": {
      "text/html": [
       "<div>\n",
       "<style scoped>\n",
       "    .dataframe tbody tr th:only-of-type {\n",
       "        vertical-align: middle;\n",
       "    }\n",
       "\n",
       "    .dataframe tbody tr th {\n",
       "        vertical-align: top;\n",
       "    }\n",
       "\n",
       "    .dataframe thead th {\n",
       "        text-align: right;\n",
       "    }\n",
       "</style>\n",
       "<table border=\"1\" class=\"dataframe\">\n",
       "  <thead>\n",
       "    <tr style=\"text-align: right;\">\n",
       "      <th></th>\n",
       "      <th>patient_id</th>\n",
       "      <th>appt_id</th>\n",
       "      <th>gender</th>\n",
       "      <th>scheduled_day</th>\n",
       "      <th>appt_day</th>\n",
       "      <th>age</th>\n",
       "      <th>location</th>\n",
       "      <th>welfare</th>\n",
       "      <th>hypertension</th>\n",
       "      <th>diabetes</th>\n",
       "      <th>alcoholism</th>\n",
       "      <th>handicap</th>\n",
       "      <th>sms_received</th>\n",
       "      <th>no_show</th>\n",
       "    </tr>\n",
       "  </thead>\n",
       "  <tbody>\n",
       "    <tr>\n",
       "      <th>0</th>\n",
       "      <td>29,872,500,000,000.00</td>\n",
       "      <td>5642903</td>\n",
       "      <td>f</td>\n",
       "      <td>2016-04-29T18:38:08Z</td>\n",
       "      <td>2016-04-29T00:00:00Z</td>\n",
       "      <td>62</td>\n",
       "      <td>jardim_da_penha</td>\n",
       "      <td>0</td>\n",
       "      <td>1</td>\n",
       "      <td>0</td>\n",
       "      <td>0</td>\n",
       "      <td>0</td>\n",
       "      <td>0</td>\n",
       "      <td>no</td>\n",
       "    </tr>\n",
       "    <tr>\n",
       "      <th>1</th>\n",
       "      <td>558,998,000,000,000.00</td>\n",
       "      <td>5642503</td>\n",
       "      <td>m</td>\n",
       "      <td>2016-04-29T16:08:27Z</td>\n",
       "      <td>2016-04-29T00:00:00Z</td>\n",
       "      <td>56</td>\n",
       "      <td>jardim_da_penha</td>\n",
       "      <td>0</td>\n",
       "      <td>0</td>\n",
       "      <td>0</td>\n",
       "      <td>0</td>\n",
       "      <td>0</td>\n",
       "      <td>0</td>\n",
       "      <td>no</td>\n",
       "    </tr>\n",
       "    <tr>\n",
       "      <th>2</th>\n",
       "      <td>4,262,960,000,000.00</td>\n",
       "      <td>5642549</td>\n",
       "      <td>f</td>\n",
       "      <td>2016-04-29T16:19:04Z</td>\n",
       "      <td>2016-04-29T00:00:00Z</td>\n",
       "      <td>62</td>\n",
       "      <td>mata_da_praia</td>\n",
       "      <td>0</td>\n",
       "      <td>0</td>\n",
       "      <td>0</td>\n",
       "      <td>0</td>\n",
       "      <td>0</td>\n",
       "      <td>0</td>\n",
       "      <td>no</td>\n",
       "    </tr>\n",
       "    <tr>\n",
       "      <th>3</th>\n",
       "      <td>867,951,000,000.00</td>\n",
       "      <td>5642828</td>\n",
       "      <td>f</td>\n",
       "      <td>2016-04-29T17:29:31Z</td>\n",
       "      <td>2016-04-29T00:00:00Z</td>\n",
       "      <td>8</td>\n",
       "      <td>pontal_de_camburi</td>\n",
       "      <td>0</td>\n",
       "      <td>0</td>\n",
       "      <td>0</td>\n",
       "      <td>0</td>\n",
       "      <td>0</td>\n",
       "      <td>0</td>\n",
       "      <td>no</td>\n",
       "    </tr>\n",
       "    <tr>\n",
       "      <th>4</th>\n",
       "      <td>8,841,190,000,000.00</td>\n",
       "      <td>5642494</td>\n",
       "      <td>f</td>\n",
       "      <td>2016-04-29T16:07:23Z</td>\n",
       "      <td>2016-04-29T00:00:00Z</td>\n",
       "      <td>56</td>\n",
       "      <td>jardim_da_penha</td>\n",
       "      <td>0</td>\n",
       "      <td>1</td>\n",
       "      <td>1</td>\n",
       "      <td>0</td>\n",
       "      <td>0</td>\n",
       "      <td>0</td>\n",
       "      <td>no</td>\n",
       "    </tr>\n",
       "  </tbody>\n",
       "</table>\n",
       "</div>"
      ],
      "text/plain": [
       "              patient_id  appt_id gender         scheduled_day  \\\n",
       "0  29,872,500,000,000.00  5642903      f  2016-04-29T18:38:08Z   \n",
       "1 558,998,000,000,000.00  5642503      m  2016-04-29T16:08:27Z   \n",
       "2   4,262,960,000,000.00  5642549      f  2016-04-29T16:19:04Z   \n",
       "3     867,951,000,000.00  5642828      f  2016-04-29T17:29:31Z   \n",
       "4   8,841,190,000,000.00  5642494      f  2016-04-29T16:07:23Z   \n",
       "\n",
       "               appt_day  age           location  welfare  hypertension  \\\n",
       "0  2016-04-29T00:00:00Z   62    jardim_da_penha        0             1   \n",
       "1  2016-04-29T00:00:00Z   56    jardim_da_penha        0             0   \n",
       "2  2016-04-29T00:00:00Z   62      mata_da_praia        0             0   \n",
       "3  2016-04-29T00:00:00Z    8  pontal_de_camburi        0             0   \n",
       "4  2016-04-29T00:00:00Z   56    jardim_da_penha        0             1   \n",
       "\n",
       "   diabetes  alcoholism  handicap  sms_received no_show  \n",
       "0         0           0         0             0      no  \n",
       "1         0           0         0             0      no  \n",
       "2         0           0         0             0      no  \n",
       "3         0           0         0             0      no  \n",
       "4         1           0         0             0      no  "
      ]
     },
     "execution_count": 143,
     "metadata": {},
     "output_type": "execute_result"
    }
   ],
   "source": [
    "# After discussing the structure of the data and any problems that need to be\n",
    "#   cleaned, perform those cleaning steps in the second part of this section.\n",
    "\n",
    "df.columns = map(str.lower, df.columns)\n",
    "df.columns = ['patient_id', 'appt_id', 'gender', 'scheduled_day', 'appt_day', 'age', 'location', 'welfare', 'hypertension', 'diabetes', 'alcoholism', 'handicap', 'sms_received', 'no_show']\n",
    "df['location'] = df['location'].str.lower().str.replace('\\s+', '_')\n",
    "df['gender'] = df['gender'].str.lower()\n",
    "df['no_show'] = df['no_show'].str.lower()\n",
    "df.head()"
   ]
  },
  {
   "cell_type": "markdown",
   "metadata": {},
   "source": [
    "<a id='eda'></a>\n",
    "## Exploratory Data Analysis"
   ]
  },
  {
   "cell_type": "markdown",
   "metadata": {},
   "source": [
    "> Let's begin with univariate data analysis before proceding to the bivariate data analysis required by our research questions\n",
    "\n",
    "> How many appointments were attended and how many were no shows? "
   ]
  },
  {
   "cell_type": "code",
   "execution_count": 144,
   "metadata": {},
   "outputs": [
    {
     "data": {
      "text/plain": [
       "no     88208\n",
       "yes    22319\n",
       "Name: no_show, dtype: int64"
      ]
     },
     "execution_count": 144,
     "metadata": {},
     "output_type": "execute_result"
    }
   ],
   "source": [
    "df['no_show'].value_counts()"
   ]
  },
  {
   "cell_type": "code",
   "execution_count": 145,
   "metadata": {},
   "outputs": [
    {
     "data": {
      "image/png": "[encoded data removed]",
      "text/plain": [
       "<Figure size 432x288 with 1 Axes>"
      ]
     },
     "metadata": {},
     "output_type": "display_data"
    }
   ],
   "source": [
    "z = df['no_show'].value_counts(normalize=True)\n",
    "plt.pie(z, labels=['No', 'Yes'], autopct='%1.1f%%')\n",
    "plt.title('Appointments Attended vs. No Shows')\n",
    "plt.show()"
   ]
  },
  {
   "cell_type": "markdown",
   "metadata": {},
   "source": [
    "### Research Question 1: Are older individuals less likely to miss their appointments?\n",
    "\n",
    ">To answer this question I first made a new column \"age range\" and placed patients into categories based of their age. I classified individuals under 18 as children, individuals over 18 and under 55 as adults, and individuals over 55 as elderly. This was the most logical division after looking at the division of the data with the describe() function. \n",
    "\n",
    ">I then created a conditional scenario that determined counts for whether each age category attended or missed appointments. \n",
    "\n",
    ">For more comprehensive analysis, I created a pie chart with readable labels to assist with visualization and drew conclusions."
   ]
  },
  {
   "cell_type": "code",
   "execution_count": 146,
   "metadata": {},
   "outputs": [
    {
     "data": {
      "text/plain": [
       "adult_yes          0.38\n",
       "elderly_yes        0.21\n",
       "child_yes          0.20\n",
       "adult_no           0.11\n",
       "child_no           0.06\n",
       "elderly_no         0.04\n",
       "Name: age_appt, dtype: float64"
      ]
     },
     "execution_count": 146,
     "metadata": {},
     "output_type": "execute_result"
    }
   ],
   "source": [
    "# Use this, and more code cells, to explore your data. Don't forget to add\n",
    "#   Markdown cells to document your observations and findings.\n",
    "\n",
    "def age_range(df):\n",
    "    if df[\"age\"] <= 18:\n",
    "        return \"child\"\n",
    "    elif df[\"age\"] <= 55:\n",
    "        return \"adult\"\n",
    "    else:\n",
    "        return \"elderly\"\n",
    "\n",
    "df['age_range'] = df.apply(age_range, axis=1)\n",
    "\n",
    "def age_appt(df): \n",
    "    if (df['age_range'] == 'child' and df['no_show'] == 'no'): \n",
    "        return 'child_yes'\n",
    "    elif (df['age_range'] == 'child' and df['no_show'] == 'yes'): \n",
    "        return 'child_no'\n",
    "    elif (df['age_range'] == 'adult' and df['no_show'] == 'no'): \n",
    "        return 'adult_yes'\n",
    "    elif (df['age_range'] == 'adult' and df['no_show'] == 'yes'): \n",
    "        return 'adult_no'\n",
    "    elif (df['age_range'] == 'elderly' and df['no_show'] == 'no'): \n",
    "        return 'elderly_yes'\n",
    "    else: \n",
    "        return 'elderly_no'\n",
    "    \n",
    "df.loc[:,'age_appt'] = df.apply(age_appt, axis=1)\n",
    "    \n",
    "df['age_appt'].value_counts(normalize=True)"
   ]
  },
  {
   "cell_type": "code",
   "execution_count": 147,
   "metadata": {},
   "outputs": [
    {
     "data": {
      "image/png": "[encoded data removed]",
      "text/plain": [
       "<Figure size 432x288 with 1 Axes>"
      ]
     },
     "metadata": {},
     "output_type": "display_data"
    }
   ],
   "source": [
    "x = df['age_appt'].value_counts(normalize=True)\n",
    "plt.pie(x, labels=['adult_yes', 'elderly_yes', 'child_yes', 'adult_no', 'child_no', 'elderly_no'], autopct='%1.1f%%')\n",
    "plt.title('Age Group vs. Appt. Status')\n",
    "plt.show()"
   ]
  },
  {
   "cell_type": "code",
   "execution_count": 148,
   "metadata": {},
   "outputs": [
    {
     "data": {
      "text/plain": [
       "([<matplotlib.axis.XTick at 0x23af5a85128>,\n",
       "  <matplotlib.axis.XTick at 0x23af5a95a20>,\n",
       "  <matplotlib.axis.XTick at 0x23af5a95780>,\n",
       "  <matplotlib.axis.XTick at 0x23af5bf6748>,\n",
       "  <matplotlib.axis.XTick at 0x23af5bf6c50>,\n",
       "  <matplotlib.axis.XTick at 0x23af59e7198>],\n",
       " <a list of 6 Text xticklabel objects>)"
      ]
     },
     "execution_count": 148,
     "metadata": {},
     "output_type": "execute_result"
    },
    {
     "data": {
      "image/png": "[encoded data removed]",
      "text/plain": [
       "<Figure size 432x288 with 1 Axes>"
      ]
     },
     "metadata": {},
     "output_type": "display_data"
    }
   ],
   "source": [
    "dictionary = plt.figure()\n",
    "\n",
    "D = {'adult_yes': .38, 'adult_no': .11, 'elderly_yes': .21, 'elderly_no': .04, 'child_yes': .20, 'child_no': .06}\n",
    "plt.bar(range(len(D)), D.values(), align='center')\n",
    "plt.title('Bar Graph: Age Group Vs. Appt. Status')\n",
    "plt.xlabel('Age Group Shows and No-Shows')\n",
    "plt.ylabel('Number of Appts.')\n",
    "plt.xticks(range(len(D)), D.keys())"
   ]
  },
  {
   "cell_type": "code",
   "execution_count": 149,
   "metadata": {},
   "outputs": [
    {
     "data": {
      "text/plain": [
       "adult_yes      42487\n",
       "elderly_yes    23201\n",
       "child_yes      22520\n",
       "adult_no       11669\n",
       "child_no        6347\n",
       "elderly_no      4303\n",
       "Name: age_appt, dtype: int64"
      ]
     },
     "execution_count": 149,
     "metadata": {},
     "output_type": "execute_result"
    }
   ],
   "source": [
    "df['age_appt'].value_counts(normalize=False)"
   ]
  },
  {
   "cell_type": "code",
   "execution_count": 150,
   "metadata": {},
   "outputs": [
    {
     "data": {
      "text/plain": [
       "([<matplotlib.axis.XTick at 0x23af7f90588>,\n",
       "  <matplotlib.axis.XTick at 0x23af7f97e80>],\n",
       " <a list of 2 Text xticklabel objects>)"
      ]
     },
     "execution_count": 150,
     "metadata": {},
     "output_type": "execute_result"
    },
    {
     "data": {
      "image/png": "[encoded data removed]",
      "text/plain": [
       "<Figure size 432x288 with 1 Axes>"
      ]
     },
     "metadata": {},
     "output_type": "display_data"
    },
    {
     "data": {
      "image/png": "[encoded data removed]",
      "text/plain": [
       "<Figure size 432x288 with 1 Axes>"
      ]
     },
     "metadata": {},
     "output_type": "display_data"
    },
    {
     "data": {
      "image/png": "[encoded data removed]",
      "text/plain": [
       "<Figure size 432x288 with 1 Axes>"
      ]
     },
     "metadata": {},
     "output_type": "display_data"
    }
   ],
   "source": [
    "dictionary = plt.figure()\n",
    "\n",
    "C = {'adult_yes': 42487, 'adult_no': 11669}\n",
    "plt.bar(range(len(C)), C.values(), align='center')\n",
    "plt.title('Adult No Shows vs. Attended Appts.')\n",
    "plt.xlabel('Child Shows and No-Shows')\n",
    "plt.ylabel('Number of Appts.')\n",
    "plt.xticks(range(len(C)), C.keys())\n",
    "\n",
    "dictionary = plt.figure()\n",
    "\n",
    "B = {'elderly_yes': 23201, 'elderly_no': 4303}\n",
    "plt.bar(range(len(B)), B.values(), align='center')\n",
    "plt.title('Elderly No Shows vs. Attended Appts.')\n",
    "plt.xlabel('Elderly Shows and No-Shows')\n",
    "plt.ylabel('Number of Appts.')\n",
    "plt.xticks(range(len(B)), B.keys())\n",
    "\n",
    "dictionary = plt.figure()\n",
    "\n",
    "A = {'child_yes': 22520, 'child_no': 6347}\n",
    "plt.bar(range(len(A)), A.values(), align='center')\n",
    "plt.title('Child No Shows vs. Attended Appts.')\n",
    "plt.xlabel('Child Shows and No-Shows')\n",
    "plt.ylabel('Number of Appts.')\n",
    "plt.xticks(range(len(A)), A.keys())"
   ]
  },
  {
   "cell_type": "markdown",
   "metadata": {},
   "source": [
    ">Results show: Adults miss 22% of their total appointments, while elderly miss roughly 15%, children miss the most with 23% of total appointments as no shows. \n",
    "This means that children miss the most appointments. This could be due to a variety of factors, but is useful in determining which population to target in emphasizing the importance of showing up to appointments. "
   ]
  },
  {
   "cell_type": "markdown",
   "metadata": {},
   "source": [
    "### Research Question 2: Does income level impact missed appointment count?\n",
    "\n",
    ">To answer this question I defined a conditional that determined whether a patient was on welfare as well as whether they missed or attended their appointments. I counted the values and made a pie chart for visualization assistance. I then drew conclusions. "
   ]
  },
  {
   "cell_type": "code",
   "execution_count": 151,
   "metadata": {},
   "outputs": [
    {
     "data": {
      "text/plain": [
       "nowelfare_show          0.72\n",
       "nowelfare_noshow        0.18\n",
       "welfare_show            0.07\n",
       "welfare_noshow          0.02\n",
       "Name: welfare_appt, dtype: float64"
      ]
     },
     "execution_count": 151,
     "metadata": {},
     "output_type": "execute_result"
    }
   ],
   "source": [
    "# Continue to explore the data to address your additional research\n",
    "#   questions. Add more headers as needed if you have more questions to\n",
    "#   investigate.\n",
    "\n",
    "def welfare_appt(df): \n",
    "    if (df['welfare'] == 1 and df['no_show'] == 'yes'): \n",
    "        return 'welfare_noshow'\n",
    "    elif (df['welfare'] == 1 and df['no_show'] == 'no'): \n",
    "        return 'welfare_show'\n",
    "    elif (df['welfare'] == 0 and df['no_show'] == 'yes'): \n",
    "        return 'nowelfare_noshow'\n",
    "    else: \n",
    "        return 'nowelfare_show'\n",
    "    \n",
    "df['welfare_appt'] = df.apply(welfare_appt, axis=1)\n",
    "    \n",
    "df['welfare_appt'].value_counts(normalize=True)"
   ]
  },
  {
   "cell_type": "code",
   "execution_count": 152,
   "metadata": {},
   "outputs": [
    {
     "data": {
      "image/png": "[encoded data removed]",
      "text/plain": [
       "<Figure size 432x288 with 1 Axes>"
      ]
     },
     "metadata": {},
     "output_type": "display_data"
    }
   ],
   "source": [
    "x = df['welfare_appt'].value_counts(normalize=True)\n",
    "plt.pie(x, labels=['nowelfare_show', 'nowelfare_noshow', 'welfare_show', 'welfare_noshow'], autopct='%1.1f%%')\n",
    "plt.title('Welfare & Nonwelfare No-Shows vs. Attended Appts.')\n",
    "plt.show()"
   ]
  },
  {
   "cell_type": "code",
   "execution_count": 153,
   "metadata": {},
   "outputs": [
    {
     "data": {
      "text/plain": [
       "nowelfare_show      79925\n",
       "nowelfare_noshow    19741\n",
       "welfare_show         8283\n",
       "welfare_noshow       2578\n",
       "Name: welfare_appt, dtype: int64"
      ]
     },
     "execution_count": 153,
     "metadata": {},
     "output_type": "execute_result"
    }
   ],
   "source": [
    "df['welfare_appt'].value_counts(normalize=False)"
   ]
  },
  {
   "cell_type": "code",
   "execution_count": 154,
   "metadata": {},
   "outputs": [
    {
     "data": {
      "text/plain": [
       "([<matplotlib.axis.XTick at 0x23af7e2c860>,\n",
       "  <matplotlib.axis.XTick at 0x23af7e388d0>],\n",
       " <a list of 2 Text xticklabel objects>)"
      ]
     },
     "execution_count": 154,
     "metadata": {},
     "output_type": "execute_result"
    },
    {
     "data": {
      "image/png": "[encoded data removed]",
      "text/plain": [
       "<Figure size 432x288 with 1 Axes>"
      ]
     },
     "metadata": {},
     "output_type": "display_data"
    },
    {
     "data": {
      "image/png": "[encoded data removed]",
      "text/plain": [
       "<Figure size 432x288 with 1 Axes>"
      ]
     },
     "metadata": {},
     "output_type": "display_data"
    }
   ],
   "source": [
    "dictionary = plt.figure()\n",
    "\n",
    "E = {'nowelfare_show': 79925, 'nowelfare_noshow': 19741}\n",
    "plt.bar(range(len(E)), E.values(), align='center')\n",
    "plt.title('Non-Welfare No Shows vs. Attended Appts.')\n",
    "plt.xlabel('Non-Welfare Shows and No-Shows')\n",
    "plt.ylabel('Number of Appts.')\n",
    "plt.xticks(range(len(E)), E.keys())\n",
    "\n",
    "dictionary = plt.figure()\n",
    "\n",
    "F = {'welfare_show': 8283, 'welfare_noshow': 2578}\n",
    "plt.bar(range(len(F)), F.values(), align='center')\n",
    "plt.title('Welfare No Shows vs. Attended Appts.')\n",
    "plt.xlabel('Welfare Shows and No-Shows')\n",
    "plt.ylabel('Number of Appts.')\n",
    "plt.xticks(range(len(F)), F.keys())"
   ]
  },
  {
   "cell_type": "markdown",
   "metadata": {},
   "source": [
    "> Results show: individuals on welfare are more likely to miss the appointments they have than individuals who are not on welfare. Individuals who are not on welfare miss 19.8% of the appointments they have, while individuals on welfare miss 22.8% of the appointments they have."
   ]
  },
  {
   "cell_type": "code",
   "execution_count": 155,
   "metadata": {
    "scrolled": true
   },
   "outputs": [
    {
     "data": {
      "text/html": [
       "<div>\n",
       "<style scoped>\n",
       "    .dataframe tbody tr th:only-of-type {\n",
       "        vertical-align: middle;\n",
       "    }\n",
       "\n",
       "    .dataframe tbody tr th {\n",
       "        vertical-align: top;\n",
       "    }\n",
       "\n",
       "    .dataframe thead th {\n",
       "        text-align: right;\n",
       "    }\n",
       "</style>\n",
       "<table border=\"1\" class=\"dataframe\">\n",
       "  <thead>\n",
       "    <tr style=\"text-align: right;\">\n",
       "      <th></th>\n",
       "      <th>Scholarship</th>\n",
       "      <th>SMS_received</th>\n",
       "    </tr>\n",
       "  </thead>\n",
       "  <tbody>\n",
       "    <tr>\n",
       "      <th>Scholarship</th>\n",
       "      <td>1.00</td>\n",
       "      <td>0.00</td>\n",
       "    </tr>\n",
       "    <tr>\n",
       "      <th>SMS_received</th>\n",
       "      <td>0.00</td>\n",
       "      <td>1.00</td>\n",
       "    </tr>\n",
       "  </tbody>\n",
       "</table>\n",
       "</div>"
      ],
      "text/plain": [
       "              Scholarship  SMS_received\n",
       "Scholarship          1.00          0.00\n",
       "SMS_received         0.00          1.00"
      ]
     },
     "execution_count": 155,
     "metadata": {},
     "output_type": "execute_result"
    }
   ],
   "source": [
    "df_2 = pd.read_csv('noshows.csv', usecols=[7, 12])\n",
    "df_2.corr()"
   ]
  },
  {
   "cell_type": "markdown",
   "metadata": {},
   "source": [
    "> Above you will note the correlation matrix and can see the relationship between individuals on welfare and thelikelihood those individuals received an sms reminder. This was an attempt to explain the skew in results showing individuals on welfare are more likely to become no-shows at appointments. However, results show no correlation between whether individuals on welfare and whether an sms message was received. \n",
    "\n",
    "> Below is another attempt to explain results. showing whether individuals on welfare are less likely to be handicapped. From the results, we can see that individuals on welfare are negatively correlated with being handicapped. Though unexpected, this can help us understand the welfare no-shows. People who are not handicapped are less likely to necessitate a healthcare appointment (it is more likely to be a checkup or nonemergent appointment). Therefore they are less motivated to attend and more likely to become a noshow.  "
   ]
  },
  {
   "cell_type": "code",
   "execution_count": 156,
   "metadata": {},
   "outputs": [
    {
     "data": {
      "text/html": [
       "<div>\n",
       "<style scoped>\n",
       "    .dataframe tbody tr th:only-of-type {\n",
       "        vertical-align: middle;\n",
       "    }\n",
       "\n",
       "    .dataframe tbody tr th {\n",
       "        vertical-align: top;\n",
       "    }\n",
       "\n",
       "    .dataframe thead th {\n",
       "        text-align: right;\n",
       "    }\n",
       "</style>\n",
       "<table border=\"1\" class=\"dataframe\">\n",
       "  <thead>\n",
       "    <tr style=\"text-align: right;\">\n",
       "      <th></th>\n",
       "      <th>Scholarship</th>\n",
       "      <th>Handcap</th>\n",
       "    </tr>\n",
       "  </thead>\n",
       "  <tbody>\n",
       "    <tr>\n",
       "      <th>Scholarship</th>\n",
       "      <td>1.00</td>\n",
       "      <td>-0.01</td>\n",
       "    </tr>\n",
       "    <tr>\n",
       "      <th>Handcap</th>\n",
       "      <td>-0.01</td>\n",
       "      <td>1.00</td>\n",
       "    </tr>\n",
       "  </tbody>\n",
       "</table>\n",
       "</div>"
      ],
      "text/plain": [
       "             Scholarship   Handcap\n",
       "Scholarship         1.00     -0.01\n",
       "Handcap            -0.01      1.00"
      ]
     },
     "execution_count": 156,
     "metadata": {},
     "output_type": "execute_result"
    }
   ],
   "source": [
    "df_3 = pd.read_csv('noshows.csv', usecols=[7, 11])\n",
    "df_3.corr()"
   ]
  },
  {
   "cell_type": "markdown",
   "metadata": {},
   "source": [
    "<a id='conclusions'></a>\n",
    "## Conclusions\n",
    "\n",
    "> In the the first question I found that the individuals more likely to miss appointments are children 18 and under. This is likely because they must rely on their parents to take them to their appointments on time and are thus more likely to have scheduling conflicts. \n",
    "If the clinic targets parents and children in emphasizing the importance of attending appointments, this could help mitigate these results.\n",
    "\n",
    ">In the second question, I found that individuals on welfare are more likely to miss their appointments than individuals who are not on welfare. However, this was not by a great margin. Though individuals who make less money are more likely to have work-conflicts, they make their appointments nearly as much. \n",
    "\n",
    "## LIMITATIONS\n",
    "\n",
    ">1. More results for certain age groups than others\n",
    ">2. More results for nonwelfare groups than welfare groups \n",
    ">3. Correlation is not causation: for cause of welfare no shows\n",
    ">4. Results may be different when segregated by location as well \n",
    "\n",
    "## Submitting your Project \n"
   ]
  },
  {
   "cell_type": "code",
   "execution_count": 157,
   "metadata": {},
   "outputs": [
    {
     "data": {
      "text/plain": [
       "4294967295"
      ]
     },
     "execution_count": 157,
     "metadata": {},
     "output_type": "execute_result"
    }
   ],
   "source": [
    "from subprocess import call\n",
    "call(['python', '-m', 'nbconvert', 'Investigate_a_Dataset.ipynb'])"
   ]
  },
  {
   "cell_type": "code",
   "execution_count": null,
   "metadata": {},
   "outputs": [],
   "source": []
  }
 ],
 "metadata": {
  "kernelspec": {
   "display_name": "Python 3",
   "language": "python",
   "name": "python3"
  },
  "language_info": {
   "codemirror_mode": {
    "name": "ipython",
    "version": 3
   },
   "file_extension": ".py",
   "mimetype": "text/x-python",
   "name": "python",
   "nbconvert_exporter": "python",
   "pygments_lexer": "ipython3",
   "version": "3.6.8"
  }
 },
 "nbformat": 4,
 "nbformat_minor": 2
}
